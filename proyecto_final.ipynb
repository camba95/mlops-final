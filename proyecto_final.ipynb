{
 "cells": [
  {
   "cell_type": "code",
   "execution_count": 8,
   "id": "ca5d1e7b",
   "metadata": {},
   "outputs": [],
   "source": [
    "import tensorflow as tf\n",
    "from tensorflow.keras.preprocessing.image import ImageDataGenerator\n",
    "import pickle"
   ]
  },
  {
   "cell_type": "code",
   "execution_count": 9,
   "id": "e75b55df",
   "metadata": {},
   "outputs": [],
   "source": [
    "# Ruta al directorio de las imágenes\n",
    "image_directory = 'dataset'"
   ]
  },
  {
   "cell_type": "code",
   "execution_count": 10,
   "id": "50c6e736",
   "metadata": {},
   "outputs": [],
   "source": [
    "# Dimensiones de las imágenes de entrada\n",
    "img_width, img_height = 150, 150"
   ]
  },
  {
   "cell_type": "code",
   "execution_count": 11,
   "id": "f8257fd0",
   "metadata": {},
   "outputs": [],
   "source": [
    "# Hiperparámetros del modelo\n",
    "batch_size = 32\n",
    "epochs = 5"
   ]
  },
  {
   "cell_type": "code",
   "execution_count": 12,
   "id": "8b12571c",
   "metadata": {},
   "outputs": [],
   "source": [
    "# Preprocesamiento y aumento de datos\n",
    "datagen = ImageDataGenerator(rescale=1./255, validation_split=0.2)"
   ]
  },
  {
   "cell_type": "code",
   "execution_count": 13,
   "id": "d9589c71",
   "metadata": {
    "scrolled": true
   },
   "outputs": [
    {
     "name": "stdout",
     "output_type": "stream",
     "text": [
      "Found 9600 images belonging to 12 classes.\n",
      "Found 2400 images belonging to 12 classes.\n"
     ]
    }
   ],
   "source": [
    "# Cargar y dividir los datos de entrenamiento y validación\n",
    "train_data = datagen.flow_from_directory(\n",
    "    image_directory,\n",
    "    target_size=(img_width, img_height),\n",
    "    batch_size=batch_size,\n",
    "    class_mode='categorical',\n",
    "    subset='training'\n",
    ")\n",
    "\n",
    "validation_data = datagen.flow_from_directory(\n",
    "    image_directory,\n",
    "    target_size=(img_width, img_height),\n",
    "    batch_size=batch_size,\n",
    "    class_mode='categorical',\n",
    "    subset='validation'\n",
    ")"
   ]
  },
  {
   "cell_type": "code",
   "execution_count": 33,
   "id": "0a9c6581",
   "metadata": {},
   "outputs": [],
   "source": [
    "# Construir el modelo de la red neuronal convolucional\n",
    "model = tf.keras.models.Sequential([\n",
    "    tf.keras.layers.Conv2D(32, (3, 3), activation='relu', input_shape=(img_width, img_height, 3)),\n",
    "    tf.keras.layers.MaxPooling2D((2, 2)),\n",
    "    tf.keras.layers.Conv2D(64, (3, 3), activation='relu'),\n",
    "    tf.keras.layers.MaxPooling2D((2, 2)),\n",
    "    tf.keras.layers.Conv2D(128, (3, 3), activation='relu'),\n",
    "    tf.keras.layers.MaxPooling2D((2, 2)),\n",
    "    tf.keras.layers.Conv2D(128, (3, 3), activation='relu'),\n",
    "    tf.keras.layers.MaxPooling2D((2, 2)),\n",
    "    tf.keras.layers.Flatten(),\n",
    "    tf.keras.layers.Dense(512, activation='relu'),\n",
    "    tf.keras.layers.Dense(1, activation='sigmoid')\n",
    "])"
   ]
  },
  {
   "cell_type": "code",
   "execution_count": 35,
   "id": "6b2ce8bc",
   "metadata": {},
   "outputs": [],
   "source": [
    "# Compilar el modelo\n",
    "model.compile(optimizer='adam', loss='binary_crossentropy', metrics=['accuracy'])"
   ]
  },
  {
   "cell_type": "code",
   "execution_count": 36,
   "id": "407c65b6",
   "metadata": {
    "scrolled": true
   },
   "outputs": [
    {
     "name": "stdout",
     "output_type": "stream",
     "text": [
      "Epoch 1/5\n",
      "300/300 [==============================] - 82s 272ms/step - loss: 0.2889 - accuracy: 0.9155 - val_loss: 0.2869 - val_accuracy: 0.9167\n",
      "Epoch 2/5\n",
      "300/300 [==============================] - 86s 287ms/step - loss: 0.2869 - accuracy: 0.9167 - val_loss: 0.2868 - val_accuracy: 0.9167\n",
      "Epoch 3/5\n",
      "300/300 [==============================] - 80s 266ms/step - loss: 0.2868 - accuracy: 0.9167 - val_loss: 0.2868 - val_accuracy: 0.9167\n",
      "Epoch 4/5\n",
      "300/300 [==============================] - 81s 272ms/step - loss: 0.2868 - accuracy: 0.9167 - val_loss: 0.2869 - val_accuracy: 0.9167\n",
      "Epoch 5/5\n",
      "300/300 [==============================] - 79s 264ms/step - loss: 0.2868 - accuracy: 0.9167 - val_loss: 0.2869 - val_accuracy: 0.9167\n"
     ]
    },
    {
     "data": {
      "text/plain": [
       "<keras.src.callbacks.History at 0x29d647100>"
      ]
     },
     "execution_count": 36,
     "metadata": {},
     "output_type": "execute_result"
    }
   ],
   "source": [
    "# Entrenar el modelo\n",
    "model.fit(train_data, epochs=epochs, validation_data=validation_data)"
   ]
  },
  {
   "cell_type": "code",
   "execution_count": 37,
   "id": "f5b2232e",
   "metadata": {},
   "outputs": [],
   "source": [
    "filename = \"./ml/model.pkl\"\n",
    "pickle.dump(model, open(filename, \"wb\"))"
   ]
  },
  {
   "cell_type": "code",
   "execution_count": 43,
   "id": "2f1384de",
   "metadata": {},
   "outputs": [
    {
     "name": "stderr",
     "output_type": "stream",
     "text": [
      "2023/07/09 21:51:04 INFO mlflow.tracking.fluent: Experiment with name 'clasificador_basico' does not exist. Creating a new experiment.\n",
      "2023/07/09 21:51:23 WARNING mlflow.utils.environment: Encountered an unexpected error while inferring pip requirements (model URI: /var/folders/h2/1lt2yrls5x3gx54fkln4wm3c0000gn/T/tmpd07u2s9c/model/model.pkl, flavor: sklearn), fall back to return ['scikit-learn==1.3.0', 'cloudpickle==2.2.1']. Set logging level to DEBUG to see the full traceback.\n",
      "/Users/kevin.alvarez/personal/ws/m16-mlops/.conda/lib/python3.9/site-packages/_distutils_hack/__init__.py:33: UserWarning: Setuptools is replacing distutils.\n",
      "  warnings.warn(\"Setuptools is replacing distutils.\")\n",
      "Successfully registered model 'fruit-classifier'.\n",
      "2023/07/09 21:51:23 INFO mlflow.tracking._model_registry.client: Waiting up to 300 seconds for model version to finish creation. Model name: fruit-classifier, version 1\n",
      "Created version '1' of model 'fruit-classifier'.\n"
     ]
    }
   ],
   "source": [
    "import mlflow\n",
    "\n",
    "def create_exp_and_register_model(experiment_name, run_name,model = None,):\n",
    "\n",
    "    mlflow.set_tracking_uri(\"http://localhost:5000\")\n",
    "    mlflow.set_experiment(experiment_name)\n",
    "\n",
    "    with mlflow.start_run(run_name=run_name) as run:\n",
    "        mlflow.set_tag(\"tag1\", \"NN\")\n",
    "        mlflow.sklearn.log_model(model, \"model\", registered_model_name='fruit-classifier')\n",
    "\n",
    "experiment_name = \"clasificador_basico\"\n",
    "run_name = \"initial-run\"\n",
    "\n",
    "create_exp_and_register_model(experiment_name, # Nombre del experimento\n",
    "                  run_name, # Nombre de la ejecución\n",
    "                  model, # Modelo ajustado\n",
    "                )"
   ]
  },
  {
   "cell_type": "code",
   "execution_count": 45,
   "id": "9ef01f8f",
   "metadata": {},
   "outputs": [
    {
     "data": {
      "text/plain": [
       "<ModelVersion: aliases=[], creation_timestamp=1688953883466, current_stage='Production', description='', last_updated_timestamp=1688953942574, name='fruit-classifier', run_id='79c1ca9e672a47c8a06a40892c1b116a', run_link='', source='mlflow-artifacts:/325871729045372542/79c1ca9e672a47c8a06a40892c1b116a/artifacts/model', status='READY', status_message='', tags={}, user_id='', version='1'>"
      ]
     },
     "execution_count": 45,
     "metadata": {},
     "output_type": "execute_result"
    }
   ],
   "source": [
    "client = mlflow.tracking.MlflowClient()\n",
    "client.transition_model_version_stage(\n",
    "    name=\"fruit-classifier\",\n",
    "    version=1,\n",
    "    stage=\"Production\"\n",
    ")"
   ]
  }
 ],
 "metadata": {
  "kernelspec": {
   "display_name": "Python 3 (ipykernel)",
   "language": "python",
   "name": "python3"
  },
  "language_info": {
   "codemirror_mode": {
    "name": "ipython",
    "version": 3
   },
   "file_extension": ".py",
   "mimetype": "text/x-python",
   "name": "python",
   "nbconvert_exporter": "python",
   "pygments_lexer": "ipython3",
   "version": "3.9.17"
  }
 },
 "nbformat": 4,
 "nbformat_minor": 5
}
